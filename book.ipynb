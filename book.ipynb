{
 "cells": [
  {
   "cell_type": "code",
   "execution_count": null,
   "metadata": {},
   "outputs": [],
   "source": [
    "The Call of the Wild: Jack London\n",
    "Pride and Prejudice: Jane Austen\n",
    "Folder: data\n",
    "\n",
    "Q1: How many times is Pride or Prejudice mentioned in Pride and Prejudice?\n",
    "Q2: How many times is dog mentioned in Call of the Wild?"
   ]
  },
  {
   "cell_type": "code",
   "execution_count": 12,
   "metadata": {},
   "outputs": [
    {
     "name": "stdout",
     "output_type": "stream",
     "text": [
      "Pride is mentioned 7 times in Jane Austen's book, Pride and Prejudice.\n",
      "Prejudice is mentioned 3 times in Jane Austen's book, Pride and Prejudice.\n"
     ]
    }
   ],
   "source": [
    "# open file as utf-8 encoded\n",
    "with open('data/pride_and_p.txt', encoding='utf-8') as file:\n",
    "    my_lines = file.readlines()\n",
    "my_lines = [line.strip() for line in my_lines]\n",
    "str = ''.join(my_lines)\n",
    "store = {}\n",
    "for word in str.split():\n",
    "    if word in store:\n",
    "        store[word] += 1\n",
    "    else:\n",
    "        if word == 'Pride' or word == 'Prejudice':\n",
    "            store[word] = 1\n",
    "print(\"Pride is mentioned\", store['Pride'], \"times in Jane Austen's book, Pride and Prejudice.\")\n",
    "print(\"Prejudice is mentioned\", store['Prejudice'], \"times in Jane Austen's book, Pride and Prejudice.\")"
   ]
  },
  {
   "cell_type": "code",
   "execution_count": 13,
   "metadata": {},
   "outputs": [
    {
     "name": "stdout",
     "output_type": "stream",
     "text": [
      "Dog is mentioned 22 times in Jack London's book, Call of the Wild.\n"
     ]
    }
   ],
   "source": [
    "# open file as utf-8 encoded\n",
    "with open('data/call_of_the_wild.txt', encoding='utf-8') as file:\n",
    "    my_lines = file.readlines()\n",
    "my_lines = [line.strip() for line in my_lines]\n",
    "str = ''.join(my_lines)\n",
    "store = {}\n",
    "for word in str.split():\n",
    "    if word in store:\n",
    "        store[word] += 1\n",
    "    else:\n",
    "        if word == 'dog':\n",
    "            store[word] = 1\n",
    "print(\"Dog is mentioned\", store['dog'], \"times in Jack London's book, Call of the Wild.\")"
   ]
  }
 ],
 "metadata": {
  "kernelspec": {
   "display_name": "Python 3 (ipykernel)",
   "language": "python",
   "name": "python3"
  },
  "language_info": {
   "codemirror_mode": {
    "name": "ipython",
    "version": 3
   },
   "file_extension": ".py",
   "mimetype": "text/x-python",
   "name": "python",
   "nbconvert_exporter": "python",
   "pygments_lexer": "ipython3",
   "version": "3.11.1"
  },
  "vscode": {
   "interpreter": {
    "hash": "2a8dfe095fce2b5e88c64a2c3ee084c8e0e0d70b23e7b95b1cfb538be294c5c8"
   }
  }
 },
 "nbformat": 4,
 "nbformat_minor": 4
}
